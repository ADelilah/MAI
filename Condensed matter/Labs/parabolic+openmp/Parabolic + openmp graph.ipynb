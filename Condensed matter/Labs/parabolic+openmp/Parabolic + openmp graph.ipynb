{
 "cells": [
  {
   "cell_type": "markdown",
   "metadata": {},
   "source": [
    "# Parabolic + openmp: graphs"
   ]
  },
  {
   "cell_type": "markdown",
   "metadata": {},
   "source": [
    "<div style=\"float:left;margin: 20px 20px 0 0;\">Equation:\n",
    "<br>\n",
    "<img style=\"height:120px;\" src=\"./pics/dif2.png\"></div>\n",
    "\n",
    "<div style=\"float:left;margin-top:20px;\">Solution:\n",
    "<br>\n",
    "<img style=\"height:30px;\" src=\"./pics/solu2.png\"></div>"
   ]
  },
  {
   "cell_type": "code",
   "execution_count": null,
   "metadata": {},
   "outputs": [],
   "source": [
    "u_cpp_full = []\n",
    "with open('parabolic-omp-output.txt', 'r') as f:\n",
    "    for i in f.readlines():\n",
    "        u_cpp_full.append(list(map(float, i.split())))"
   ]
  },
  {
   "cell_type": "code",
   "execution_count": null,
   "metadata": {},
   "outputs": [],
   "source": [
    "%matplotlib inline\n",
    "\n",
    "from math import sin, pi, exp\n",
    "import numpy as np\n",
    "import matplotlib.pyplot as plt\n",
    "\n",
    "def f(x, t):\n",
    "    return x+exp(-pi*pi*t)*sin(pi*x)\n",
    "\n",
    "step = 10\n",
    "cur_t = min_t + step * step_t\n",
    "x = np.arange(0, max_x+step_x, step_x)\n",
    "\n",
    "u_an = [f(x, cur_t) for x in list(x)]\n",
    "u_py = u[step]\n",
    "u_cpp = u_cpp_full[step]\n",
    "\n",
    "plt.plot(x,u_an,'r-', linewidth=1.0)\n",
    "plt.plot(x,u_cpp,'g-', linewidth=1.0)\n",
    "\n",
    "plt.xlabel(\"x\")\n",
    "plt.ylabel(\"U(x,{})\".format(cur_t))\n",
    "\n",
    "plt.legend(['an', \"cpp\"])\n",
    "plt.show()"
   ]
  }
 ],
 "metadata": {
  "kernelspec": {
   "display_name": "Python 3",
   "language": "python",
   "name": "python3"
  },
  "language_info": {
   "codemirror_mode": {
    "name": "ipython",
    "version": 3
   },
   "file_extension": ".py",
   "mimetype": "text/x-python",
   "name": "python",
   "nbconvert_exporter": "python",
   "pygments_lexer": "ipython3",
   "version": "3.5.2"
  }
 },
 "nbformat": 4,
 "nbformat_minor": 1
}
