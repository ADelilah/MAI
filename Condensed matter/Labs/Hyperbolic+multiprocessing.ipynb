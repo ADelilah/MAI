{
 "cells": [
  {
   "cell_type": "markdown",
   "metadata": {},
   "source": [
    "# Hyperbolic + multiprocessing"
   ]
  },
  {
   "cell_type": "markdown",
   "metadata": {},
   "source": [
    "<div style=\"float:left;margin: 20px 20px 0 0;\">Equation:\n",
    "<br>\n",
    "<img style=\"height:120px;\" src=\"./pics/hyp-dif.png\"></div>\n",
    "\n",
    "<div style=\"float:left;margin-top:20px;\">Solution:\n",
    "<br>\n",
    "<img style=\"height:30px;\" src=\"./pics/hyp-solu.png\"></div>"
   ]
  },
  {
   "cell_type": "markdown",
   "metadata": {},
   "source": [
    "Coefficients:"
   ]
  },
  {
   "cell_type": "code",
   "execution_count": 1,
   "metadata": {},
   "outputs": [],
   "source": [
    "from math import exp, pi, sin\n",
    "\n",
    "a = 2**0.5\n",
    "b = 4\n",
    "\n",
    "min_x = 0\n",
    "max_x = pi\n",
    "step_x = pi/100\n",
    "max_t = 1   \n",
    "step_t = 1/100"
   ]
  },
  {
   "cell_type": "markdown",
   "metadata": {},
   "source": [
    "## Numerical solution with mp"
   ]
  },
  {
   "cell_type": "code",
   "execution_count": 2,
   "metadata": {},
   "outputs": [],
   "source": [
    "from multiprocessing import Process, Array\n",
    "\n",
    "#for progress bar (don't mind the warning)---\n",
    "from ipywidgets import FloatProgress\n",
    "from IPython.display import display\n",
    "#---\n",
    "\n",
    "#explicit method (should be used in all labs as others can't be parallelized)\n",
    "def explicit_fd(a, b,\n",
    "                min_x, max_x, max_t, \n",
    "                step_x, step_t): \n",
    "    \n",
    "    \n",
    "    m = int(max_t / step_t) + 1\n",
    "    n = int((max_x - min_x) / step_x) + 1\n",
    "    \n",
    "    #progress bar ---\n",
    "    f = FloatProgress(min=0, max=m-2)\n",
    "    display(f)\n",
    "    #---\n",
    "    \n",
    "    u = [Array('d', [0.0 for i in range(n)]) for i in range(m)]\n",
    "\n",
    "    init_2d_layer_func = get_init_2d_layer_func(a, b, step_t)\n",
    "\n",
    "    for x in range(n):\n",
    "        u[0][x] = 0  \n",
    "        u[1][x] = init_2d_layer_func(min_x + x * step_x, 0) \n",
    "\n",
    "    A = 1 / (step_t ** 2) \n",
    "    B = ((a / step_x) ** 2 - b / (2 * step_x)) / A  \n",
    "    C = (2 / step_t ** 2 - 2 * (a / step_x) ** 2) / A  \n",
    "    D = ((a / step_x) ** 2 + b / (2 * step_x)) / A  \n",
    "    \n",
    "    def calc_elem(t, x, u, B, C, D):\n",
    "        u[t][x] = (B * u[t - 1][x - 1] + C * u[t - 1][x] + D * u[t - 1][x + 1] - u[t - 2][x])\n",
    "        \n",
    "    def par(pn, mp, t, u, B, C, D):\n",
    "        x = 1 + pn\n",
    "        while x < n - 1:\n",
    "            calc_elem(t, x, u, B, C, D)\n",
    "            x += mp\n",
    "    \n",
    "\n",
    "    for t in range(2, m):    #multiprocessing\n",
    "        mp = 4\n",
    "        pool = []\n",
    "        for pn in range(mp):\n",
    "            pool.append(Process(target=par, args=(pn, mp, t, u, B, C, D,)))\n",
    "            pool[-1].start()\n",
    "            \n",
    "        for i in pool:\n",
    "            i.join()\n",
    "                        \n",
    "        u[t][0] = 0 \n",
    "        u[t][n - 1] = 0 \n",
    "        f.value += 1\n",
    "\n",
    "    return u"
   ]
  },
  {
   "cell_type": "code",
   "execution_count": 3,
   "metadata": {},
   "outputs": [],
   "source": [
    "def get_init_2d_layer_func(a, b, step_t): #feel free to get the rid of this\n",
    "    \n",
    "    def foo(x, prev_u):\n",
    "        return prev_u + exp(-x) * sin(x) * step_t\n",
    "                               \n",
    "    return foo"
   ]
  },
  {
   "cell_type": "code",
   "execution_count": 4,
   "metadata": {},
   "outputs": [
    {
     "name": "stderr",
     "output_type": "stream",
     "text": [
      "Widget Javascript not detected.  It may not be installed or enabled properly.\n"
     ]
    },
    {
     "data": {
      "application/vnd.jupyter.widget-view+json": {
       "model_id": "1b3503ace3af4f6195bae1c3c0871525"
      }
     },
     "metadata": {},
     "output_type": "display_data"
    }
   ],
   "source": [
    "u = explicit_fd(a, b,\n",
    "                min_x, max_x, max_t, \n",
    "                step_x, step_t)"
   ]
  },
  {
   "cell_type": "markdown",
   "metadata": {},
   "source": [
    "## Solution plots"
   ]
  },
  {
   "cell_type": "code",
   "execution_count": 5,
   "metadata": {},
   "outputs": [
    {
     "data": {
      "image/png": "[encoded data removed]",
      "text/plain": [
       "<matplotlib.figure.Figure at 0x10663ca58>"
      ]
     },
     "metadata": {},
     "output_type": "display_data"
    }
   ],
   "source": [
    "%matplotlib inline\n",
    "\n",
    "import numpy as np\n",
    "import matplotlib.pyplot as plt\n",
    "\n",
    "x = np.arange(0, max_x, step_x)\n",
    "u_an = [0.5 * exp(-x) * sin(x) * sin(2*max_t) for x in list(x)]\n",
    "u_ch = u[-1]\n",
    "\n",
    "#print(len(u_an), len(u_ch))\n",
    "\n",
    "plt.plot(x,u_an,'g-', linewidth=3.0)\n",
    "plt.plot(x,u_ch,'b-', linewidth=1.0)\n",
    "plt.xlabel(\"x\")\n",
    "plt.ylabel(\"U(x,max_t)\")\n",
    "plt.legend([\"Analytical\",\"Numerical\"])\n",
    "plt.show()"
   ]
  },
  {
   "cell_type": "markdown",
   "metadata": {},
   "source": [
    "## Absolute error plot"
   ]
  },
  {
   "cell_type": "code",
   "execution_count": 6,
   "metadata": {},
   "outputs": [
    {
     "data": {
      "image/png": "[encoded data removed]",
      "text/plain": [
       "<matplotlib.figure.Figure at 0x1065e6cf8>"
      ]
     },
     "metadata": {},
     "output_type": "display_data"
    }
   ],
   "source": [
    "abs_er = list(map(lambda a, b: abs(a-b)+1, u_ch, u_an))\n",
    "\n",
    "plt.plot(x, abs_er,'r--', linewidth=1.0)\n",
    "plt.xlabel(\"x\")\n",
    "plt.ylabel(\"abs(Error)\")\n",
    "plt.show()"
   ]
  }
 ],
 "metadata": {
  "kernelspec": {
   "display_name": "Python 3",
   "language": "python",
   "name": "python3"
  },
  "language_info": {
   "codemirror_mode": {
    "name": "ipython",
    "version": 3
   },
   "file_extension": ".py",
   "mimetype": "text/x-python",
   "name": "python",
   "nbconvert_exporter": "python",
   "pygments_lexer": "ipython3",
   "version": "3.5.2"
  }
 },
 "nbformat": 4,
 "nbformat_minor": 1
}
